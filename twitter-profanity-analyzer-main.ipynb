{
 "cells": [
  {
   "cell_type": "markdown",
   "metadata": {},
   "source": [
    "# importing the required libraries"
   ]
  },
  {
   "cell_type": "code",
   "execution_count": null,
   "metadata": {},
   "outputs": [],
   "source": [
    "import json \n",
    "import string\n",
    "from types import resolve_bases\n",
    "import nltk\n",
    "from nltk.corpus import stopwords\n",
    "from nltk import word_tokenize\n",
    "from nltk.tokenize import RegexpTokenizer\n",
    "from nltk.stem import WordNetLemmatizer\n",
    "from nltk.stem.porter import PorterStemmer\n",
    "import pandas as pd"
   ]
  },
  {
   "cell_type": "markdown",
   "metadata": {},
   "source": [
    "Defining functions to read both the files"
   ]
  },
  {
   "cell_type": "code",
   "execution_count": 92,
   "metadata": {},
   "outputs": [],
   "source": [
    "def get_profane(file):\n",
    "    profane=[]\n",
    "    f=open(file,'r+')\n",
    "    profanity = f.readlines()\n",
    "    for each in profanity:\n",
    "        profane.append(each.strip())\n",
    "    return profane"
   ]
  },
  {
   "cell_type": "code",
   "execution_count": 93,
   "metadata": {},
   "outputs": [],
   "source": [
    "def get_tweets(file):\n",
    "    with open(file,'r+') as f:\n",
    "\t    twitterData = json.load(f)\n",
    "    tweetInfo = pd.DataFrame(twitterData['info'])\n",
    "    return tweetInfo"
   ]
  },
  {
   "cell_type": "markdown",
   "metadata": {},
   "source": [
    "Function to remove punctuation"
   ]
  },
  {
   "cell_type": "code",
   "execution_count": 95,
   "metadata": {},
   "outputs": [],
   "source": [
    "def remove_punctuation(text):\n",
    "    no_punctuation = \"\".join([c for c in text if c not in string.punctuation])\n",
    "    return no_punctuation\n"
   ]
  },
  {
   "cell_type": "raw",
   "metadata": {},
   "source": [
    "Function to remove stopwords"
   ]
  },
  {
   "cell_type": "code",
   "execution_count": 96,
   "metadata": {},
   "outputs": [],
   "source": [
    "def remove_stopwords(text):\n",
    "    words = [w for w in text if w not in stopwords.words('english')]\n",
    "    return words"
   ]
  },
  {
   "cell_type": "markdown",
   "metadata": {},
   "source": [
    "Function to lemmatize words"
   ]
  },
  {
   "cell_type": "code",
   "execution_count": 97,
   "metadata": {},
   "outputs": [],
   "source": [
    "def word_lemmatizer(text):\n",
    "    lem_text = [lemmatizer.lemmatize(word) for word in text]\n",
    "    return lem_text\n"
   ]
  },
  {
   "cell_type": "code",
   "execution_count": 98,
   "metadata": {},
   "outputs": [],
   "source": [
    "def word_stemmer(text):\n",
    "    stem_text = \" \".join([stemmer.stem(i) for i in text])\n",
    "    return stem_text"
   ]
  },
  {
   "cell_type": "markdown",
   "metadata": {},
   "source": [
    "Applying all the above functions"
   ]
  },
  {
   "cell_type": "code",
   "execution_count": 99,
   "metadata": {},
   "outputs": [],
   "source": [
    "def clean_tweets(tweetInfo):\n",
    "    tweetInfo['tweet'] = tweetInfo['tweet'].apply(lambda x: remove_punctuation(x))    \n",
    "    tweetInfo['tweet'] = tweetInfo['tweet'].apply(lambda x: tokenizer.tokenize(x))    \n",
    "    tweetInfo['tweet'] = tweetInfo['tweet'].apply(lambda x: remove_stopwords(x))    \n",
    "    tweetInfo['tweet'] = tweetInfo['tweet'].apply(lambda x: word_lemmatizer(x))\n",
    "    tweetInfo['tweet'] = tweetInfo['tweet'].apply(lambda x: word_stemmer(x))\n",
    "\n",
    "    return tweetInfo"
   ]
  },
  {
   "cell_type": "markdown",
   "metadata": {},
   "source": [
    "Functions to calculate degree of profanity"
   ]
  },
  {
   "cell_type": "code",
   "execution_count": 100,
   "metadata": {},
   "outputs": [],
   "source": [
    "def calculate_degree(tweet, profane):\n",
    "    degree_of_profanity = sum(1 for word in tweet if word in profane) / len(tweet)\n",
    "    return degree_of_profanity\n"
   ]
  },
  {
   "cell_type": "code",
   "execution_count": 101,
   "metadata": {},
   "outputs": [],
   "source": [
    "def calculate_profanity_degree(cleaned_tweets, profane):\n",
    "    profanity_df = pd.DataFrame()\n",
    "    profanity_df['id'] = tweetInfo['id']\n",
    "    profanity_df['userName'] = tweetInfo['userName']\n",
    "    profanity_df['tweet'] = cleaned_tweets['tweet'].apply(lambda x: tokenizer.tokenize(x))\n",
    "    profanity_df['degree'] = profanity_df['tweet'].apply(lambda x: calculate_degree(x, profane))\n",
    "    return profanity_df"
   ]
  },
  {
   "cell_type": "code",
   "execution_count": 102,
   "metadata": {},
   "outputs": [],
   "source": [
    "lemmatizer = WordNetLemmatizer()\n",
    "stemmer = PorterStemmer()\n",
    "tokenizer = RegexpTokenizer(r'\\w+')\n"
   ]
  },
  {
   "cell_type": "code",
   "execution_count": 114,
   "metadata": {},
   "outputs": [],
   "source": [
    "profane = get_profane('racial_slurs.txt')"
   ]
  },
  {
   "cell_type": "code",
   "execution_count": 104,
   "metadata": {},
   "outputs": [
    {
     "data": {
      "text/plain": [
       "['Ape',\n",
       " 'Abo',\n",
       " 'Bong',\n",
       " 'brownie',\n",
       " 'charlie',\n",
       " 'Chinky',\n",
       " 'Chug',\n",
       " 'coon',\n",
       " 'Crow',\n",
       " 'negro',\n",
       " 'niggah',\n",
       " 'paddy',\n",
       " 'Sambo',\n",
       " 'Snowflake',\n",
       " 'Spade',\n",
       " 'Spook',\n",
       " 'Turk']"
      ]
     },
     "execution_count": 104,
     "metadata": {},
     "output_type": "execute_result"
    }
   ],
   "source": [
    "profane"
   ]
  },
  {
   "cell_type": "code",
   "execution_count": 115,
   "metadata": {},
   "outputs": [
    {
     "data": {
      "text/html": [
       "<div>\n",
       "<style scoped>\n",
       "    .dataframe tbody tr th:only-of-type {\n",
       "        vertical-align: middle;\n",
       "    }\n",
       "\n",
       "    .dataframe tbody tr th {\n",
       "        vertical-align: top;\n",
       "    }\n",
       "\n",
       "    .dataframe thead th {\n",
       "        text-align: right;\n",
       "    }\n",
       "</style>\n",
       "<table border=\"1\" class=\"dataframe\">\n",
       "  <thead>\n",
       "    <tr style=\"text-align: right;\">\n",
       "      <th></th>\n",
       "      <th>id</th>\n",
       "      <th>userName</th>\n",
       "      <th>tweet</th>\n",
       "    </tr>\n",
       "  </thead>\n",
       "  <tbody>\n",
       "    <tr>\n",
       "      <th>0</th>\n",
       "      <td>0</td>\n",
       "      <td>kkk123</td>\n",
       "      <td>Deport this brownie, this ape should be in jai...</td>\n",
       "    </tr>\n",
       "    <tr>\n",
       "      <th>1</th>\n",
       "      <td>1</td>\n",
       "      <td>noobMaster</td>\n",
       "      <td>People should be really ashamed of the hate th...</td>\n",
       "    </tr>\n",
       "    <tr>\n",
       "      <th>2</th>\n",
       "      <td>2</td>\n",
       "      <td>adolf23</td>\n",
       "      <td>These jigger people are taking our jobs. They ...</td>\n",
       "    </tr>\n",
       "    <tr>\n",
       "      <th>3</th>\n",
       "      <td>3</td>\n",
       "      <td>dude77</td>\n",
       "      <td>the Contribution Regulation Act was suspended ...</td>\n",
       "    </tr>\n",
       "  </tbody>\n",
       "</table>\n",
       "</div>"
      ],
      "text/plain": [
       "   id    userName                                              tweet\n",
       "0   0      kkk123  Deport this brownie, this ape should be in jai...\n",
       "1   1  noobMaster  People should be really ashamed of the hate th...\n",
       "2   2     adolf23  These jigger people are taking our jobs. They ...\n",
       "3   3      dude77  the Contribution Regulation Act was suspended ..."
      ]
     },
     "execution_count": 115,
     "metadata": {},
     "output_type": "execute_result"
    }
   ],
   "source": [
    "tweetInfo = get_tweets('twitter.json')\n",
    "tweetInfo"
   ]
  },
  {
   "cell_type": "code",
   "execution_count": 116,
   "metadata": {},
   "outputs": [
    {
     "data": {
      "text/html": [
       "<div>\n",
       "<style scoped>\n",
       "    .dataframe tbody tr th:only-of-type {\n",
       "        vertical-align: middle;\n",
       "    }\n",
       "\n",
       "    .dataframe tbody tr th {\n",
       "        vertical-align: top;\n",
       "    }\n",
       "\n",
       "    .dataframe thead th {\n",
       "        text-align: right;\n",
       "    }\n",
       "</style>\n",
       "<table border=\"1\" class=\"dataframe\">\n",
       "  <thead>\n",
       "    <tr style=\"text-align: right;\">\n",
       "      <th></th>\n",
       "      <th>id</th>\n",
       "      <th>userName</th>\n",
       "      <th>tweet</th>\n",
       "    </tr>\n",
       "  </thead>\n",
       "  <tbody>\n",
       "    <tr>\n",
       "      <th>0</th>\n",
       "      <td>0</td>\n",
       "      <td>kkk123</td>\n",
       "      <td>deport browni ape jail</td>\n",
       "    </tr>\n",
       "    <tr>\n",
       "      <th>1</th>\n",
       "      <td>1</td>\n",
       "      <td>noobMaster</td>\n",
       "      <td>peopl realli asham hate show poor man</td>\n",
       "    </tr>\n",
       "    <tr>\n",
       "      <th>2</th>\n",
       "      <td>2</td>\n",
       "      <td>adolf23</td>\n",
       "      <td>these jigger peopl take job they dont belong</td>\n",
       "    </tr>\n",
       "    <tr>\n",
       "      <th>3</th>\n",
       "      <td>3</td>\n",
       "      <td>dude77</td>\n",
       "      <td>contribut regul act suspend union home ministr...</td>\n",
       "    </tr>\n",
       "  </tbody>\n",
       "</table>\n",
       "</div>"
      ],
      "text/plain": [
       "   id    userName                                              tweet\n",
       "0   0      kkk123                             deport browni ape jail\n",
       "1   1  noobMaster              peopl realli asham hate show poor man\n",
       "2   2     adolf23       these jigger peopl take job they dont belong\n",
       "3   3      dude77  contribut regul act suspend union home ministr..."
      ]
     },
     "execution_count": 116,
     "metadata": {},
     "output_type": "execute_result"
    }
   ],
   "source": [
    "cleaned_tweets = clean_tweets(tweetInfo)\n",
    "cleaned_tweets\n"
   ]
  },
  {
   "cell_type": "code",
   "execution_count": 117,
   "metadata": {},
   "outputs": [],
   "source": [
    "result = pd.DataFrame()\n",
    "result = calculate_profanity_degree(cleaned_tweets, profane)\n",
    "result.to_csv('result.csv')"
   ]
  },
  {
   "cell_type": "code",
   "execution_count": null,
   "metadata": {},
   "outputs": [],
   "source": []
  }
 ],
 "metadata": {
  "kernelspec": {
   "display_name": "Python 3",
   "language": "python",
   "name": "python3"
  },
  "language_info": {
   "codemirror_mode": {
    "name": "ipython",
    "version": 3
   },
   "file_extension": ".py",
   "mimetype": "text/x-python",
   "name": "python",
   "nbconvert_exporter": "python",
   "pygments_lexer": "ipython3",
   "version": "3.8.5"
  }
 },
 "nbformat": 4,
 "nbformat_minor": 4
}
